{
    "metadata": {
        "kernelspec": {
            "name": "python3",
            "display_name": "Python 3",
            "language": "python"
        },
        "language_info": {
            "name": "python",
            "version": "3.8.10",
            "mimetype": "text/x-python",
            "codemirror_mode": {
                "name": "ipython",
                "version": 3
            },
            "pygments_lexer": "ipython3",
            "nbconvert_exporter": "python",
            "file_extension": ".py"
        }
    },
    "nbformat_minor": 2,
    "nbformat": 4,
    "cells": [
        {
            "cell_type": "code",
            "source": [
                "import requests\r\n",
                "import pandas as pd\r\n",
                "import pyodbc\r\n",
                "import json\r\n",
                "conn = pyodbc.connect('Driver={SQL Server};'\r\n",
                "                      'SERVER=sqloncloud.database.windows.net;'\r\n",
                "                      'Database=datarobot;'\r\n",
                "                      'UID=sysadmin;'\r\n",
                "                      'PWD=L!verp00l;'\r\n",
                "                      'Trusted_Connection=no;')\r\n",
                "                \r\n",
                "# url = \"https://api.github.com/users/askpython\"\r\n",
                "url = \"https://financialmodelingprep.com/api/v3/historical-price-full/stock_dividend/AAPL?apikey=8S7wQ9ajsnEYgHRSFvi9ZTCxyZ11aNlX\"\r\n",
                "response = requests.get(url)\r\n",
                "\r\n",
                "if response.status_code == 200:\r\n",
                "    #print(response.headers)\r\n",
                "    #print(response.json())\r\n",
                "    df = pd.DataFrame(response.json())\r\n",
                "    # print(df)\r\n",
                "    \r\n",
                "    cursor= conn.cursor()\r\n",
                "    #Deleting existing data in SQL Table:- \r\n",
                "    cursor.execute(\"DELETE FROM [dbo].[historical-dividends]\")\r\n",
                "    conn.commit()\r\n",
                "    \r\n",
                "    #Inserting data in SQL Table:- \r\n",
                "    for index,row in df.iterrows():\r\n",
                "        cursor.execute(\"INSERT INTO [dbo].[historical-dividends]([symbol],[historical]) values (?,?)\", row['symbol'],json.dumps(row['historical'])) \r\n",
                "    conn.commit()\r\n",
                "    cursor.close()\r\n",
                "    conn.close()\r\n",
                "\r\n",
                "else:\r\n",
                "    print(response.status_code, response.reason)\r\n",
                ""
            ],
            "metadata": {
                "azdata_cell_guid": "5f05dbff-162c-4aef-9829-70e253813604",
                "language": "python",
                "tags": []
            },
            "outputs": [],
            "execution_count": 8
        }
    ]
}